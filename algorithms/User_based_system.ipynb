{
 "cells": [
  {
   "cell_type": "markdown",
   "metadata": {},
   "source": [
    "# Movie recommendation system\n",
    "In this notebook, I will describe one way of making a movie recommendation system. In order to do this, I used numpy, pandas, matplotlib, seaborn and scikit-learn.\n",
    "\n",
    "I also used the official scikit-learn documentation, several books, such as \"Hands-on Machine Learning with Scikit-Learn and TensorFlow\" (http://shop.oreilly.com/product/0636920052289.do) and \"Mastering Machine Learning with Python in six Steps\" (http://www.apress.com/us/book/9781484228654), as well as various blogs, for instance:\n",
    "1. https://datatoanalytics.wordpress.com/2016/12/07/recommender-system-a-comparative-study/\n",
    "2. http://pythonforengineers.com/data-analysis-with-pandas/\n",
    "3. https://medium.com/towards-data-science/learning-to-rank-with-python-scikit-learn-327a5cfd81f\n",
    "4. http://blog.ethanrosenthal.com/2015/11/02/intro-to-collaborative-filtering/"
   ]
  },
  {
   "cell_type": "code",
   "execution_count": 1,
   "metadata": {
    "collapsed": false
   },
   "outputs": [],
   "source": [
    "import re\n",
    "from collections import Counter\n",
    "import numpy as np\n",
    "import pandas as pd\n",
    "pd.options.mode.chained_assignment = None\n",
    "import matplotlib.pyplot as plt\n",
    "%matplotlib inline\n",
    "import seaborn as sns\n",
    "sns.set_style(\"darkgrid\")\n",
    "from math import sqrt\n",
    "from sklearn.metrics import mean_squared_error\n",
    "from sklearn.metrics.pairwise import pairwise_distances\n",
    "from sklearn.model_selection import train_test_split"
   ]
  },
  {
   "cell_type": "markdown",
   "metadata": {
    "collapsed": true
   },
   "source": [
    "## 1. Exploring the MovieLens 20M Dataset\n",
    "\n",
    "\n",
    "The MovieLens 20M Dataset describes 5-star rating and free-text tagging activity from [MovieLens](http://movielens.org), a movie recommendation service. It contains 20000263 ratings and 465564 tag applications across 27278 movies.\n",
    "\n",
    "In order to explore the MovieLens 20M Dataset, we first load the six csv files from the ml-20m folder (`genome-scores.csv`, `genome-tags.csv`, `links.csv`, `movies.csv`, `ratings.csv` and `tags.csv`) and convert them into dataframes using pandas."
   ]
  },
  {
   "cell_type": "code",
   "execution_count": 2,
   "metadata": {
    "collapsed": false
   },
   "outputs": [
    {
     "name": "stdout",
     "output_type": "stream",
     "text": [
      "(9125, 3)\n"
     ]
    },
    {
     "data": {
      "text/html": [
       "<div>\n",
       "<table border=\"1\" class=\"dataframe\">\n",
       "  <thead>\n",
       "    <tr style=\"text-align: right;\">\n",
       "      <th></th>\n",
       "      <th>movieId</th>\n",
       "      <th>title</th>\n",
       "      <th>genres</th>\n",
       "    </tr>\n",
       "  </thead>\n",
       "  <tbody>\n",
       "    <tr>\n",
       "      <th>0</th>\n",
       "      <td>1</td>\n",
       "      <td>Toy Story (1995)</td>\n",
       "      <td>Adventure|Animation|Children|Comedy|Fantasy</td>\n",
       "    </tr>\n",
       "    <tr>\n",
       "      <th>1</th>\n",
       "      <td>2</td>\n",
       "      <td>Jumanji (1995)</td>\n",
       "      <td>Adventure|Children|Fantasy</td>\n",
       "    </tr>\n",
       "    <tr>\n",
       "      <th>2</th>\n",
       "      <td>3</td>\n",
       "      <td>Grumpier Old Men (1995)</td>\n",
       "      <td>Comedy|Romance</td>\n",
       "    </tr>\n",
       "    <tr>\n",
       "      <th>3</th>\n",
       "      <td>4</td>\n",
       "      <td>Waiting to Exhale (1995)</td>\n",
       "      <td>Comedy|Drama|Romance</td>\n",
       "    </tr>\n",
       "    <tr>\n",
       "      <th>4</th>\n",
       "      <td>5</td>\n",
       "      <td>Father of the Bride Part II (1995)</td>\n",
       "      <td>Comedy</td>\n",
       "    </tr>\n",
       "  </tbody>\n",
       "</table>\n",
       "</div>"
      ],
      "text/plain": [
       "   movieId                               title  \\\n",
       "0        1                    Toy Story (1995)   \n",
       "1        2                      Jumanji (1995)   \n",
       "2        3             Grumpier Old Men (1995)   \n",
       "3        4            Waiting to Exhale (1995)   \n",
       "4        5  Father of the Bride Part II (1995)   \n",
       "\n",
       "                                        genres  \n",
       "0  Adventure|Animation|Children|Comedy|Fantasy  \n",
       "1                   Adventure|Children|Fantasy  \n",
       "2                               Comedy|Romance  \n",
       "3                         Comedy|Drama|Romance  \n",
       "4                                       Comedy  "
      ]
     },
     "execution_count": 2,
     "metadata": {},
     "output_type": "execute_result"
    }
   ],
   "source": [
    "movies = pd.read_csv('ml-latest-small/movies.csv')\n",
    "print(movies.shape)\n",
    "movies.head()"
   ]
  },
  {
   "cell_type": "markdown",
   "metadata": {},
   "source": [
    "The **movies** dataframe has 27278 rows and three columns labeled **movieId**, **title** and **genres**. In order to make the dataframe more usable, we add separate columns for each genre and delete the **genres** column which we do not need anymore. We also delete the newly created **(no genres listed)** column, which doesn't seem useful."
   ]
  },
  {
   "cell_type": "code",
   "execution_count": 19,
   "metadata": {
    "collapsed": false
   },
   "outputs": [
    {
     "name": "stdout",
     "output_type": "stream",
     "text": [
      "(27278, 21)\n"
     ]
    },
    {
     "data": {
      "text/html": [
       "<div>\n",
       "<table border=\"1\" class=\"dataframe\">\n",
       "  <thead>\n",
       "    <tr style=\"text-align: right;\">\n",
       "      <th></th>\n",
       "      <th>movieId</th>\n",
       "      <th>title</th>\n",
       "      <th>Action</th>\n",
       "      <th>Adventure</th>\n",
       "      <th>Animation</th>\n",
       "      <th>Children</th>\n",
       "      <th>Comedy</th>\n",
       "      <th>Crime</th>\n",
       "      <th>Documentary</th>\n",
       "      <th>Drama</th>\n",
       "      <th>...</th>\n",
       "      <th>Film-Noir</th>\n",
       "      <th>Horror</th>\n",
       "      <th>IMAX</th>\n",
       "      <th>Musical</th>\n",
       "      <th>Mystery</th>\n",
       "      <th>Romance</th>\n",
       "      <th>Sci-Fi</th>\n",
       "      <th>Thriller</th>\n",
       "      <th>War</th>\n",
       "      <th>Western</th>\n",
       "    </tr>\n",
       "  </thead>\n",
       "  <tbody>\n",
       "    <tr>\n",
       "      <th>0</th>\n",
       "      <td>1</td>\n",
       "      <td>Toy Story (1995)</td>\n",
       "      <td>0</td>\n",
       "      <td>1</td>\n",
       "      <td>1</td>\n",
       "      <td>1</td>\n",
       "      <td>1</td>\n",
       "      <td>0</td>\n",
       "      <td>0</td>\n",
       "      <td>0</td>\n",
       "      <td>...</td>\n",
       "      <td>0</td>\n",
       "      <td>0</td>\n",
       "      <td>0</td>\n",
       "      <td>0</td>\n",
       "      <td>0</td>\n",
       "      <td>0</td>\n",
       "      <td>0</td>\n",
       "      <td>0</td>\n",
       "      <td>0</td>\n",
       "      <td>0</td>\n",
       "    </tr>\n",
       "    <tr>\n",
       "      <th>1</th>\n",
       "      <td>2</td>\n",
       "      <td>Jumanji (1995)</td>\n",
       "      <td>0</td>\n",
       "      <td>1</td>\n",
       "      <td>0</td>\n",
       "      <td>1</td>\n",
       "      <td>0</td>\n",
       "      <td>0</td>\n",
       "      <td>0</td>\n",
       "      <td>0</td>\n",
       "      <td>...</td>\n",
       "      <td>0</td>\n",
       "      <td>0</td>\n",
       "      <td>0</td>\n",
       "      <td>0</td>\n",
       "      <td>0</td>\n",
       "      <td>0</td>\n",
       "      <td>0</td>\n",
       "      <td>0</td>\n",
       "      <td>0</td>\n",
       "      <td>0</td>\n",
       "    </tr>\n",
       "    <tr>\n",
       "      <th>2</th>\n",
       "      <td>3</td>\n",
       "      <td>Grumpier Old Men (1995)</td>\n",
       "      <td>0</td>\n",
       "      <td>0</td>\n",
       "      <td>0</td>\n",
       "      <td>0</td>\n",
       "      <td>1</td>\n",
       "      <td>0</td>\n",
       "      <td>0</td>\n",
       "      <td>0</td>\n",
       "      <td>...</td>\n",
       "      <td>0</td>\n",
       "      <td>0</td>\n",
       "      <td>0</td>\n",
       "      <td>0</td>\n",
       "      <td>0</td>\n",
       "      <td>1</td>\n",
       "      <td>0</td>\n",
       "      <td>0</td>\n",
       "      <td>0</td>\n",
       "      <td>0</td>\n",
       "    </tr>\n",
       "    <tr>\n",
       "      <th>3</th>\n",
       "      <td>4</td>\n",
       "      <td>Waiting to Exhale (1995)</td>\n",
       "      <td>0</td>\n",
       "      <td>0</td>\n",
       "      <td>0</td>\n",
       "      <td>0</td>\n",
       "      <td>1</td>\n",
       "      <td>0</td>\n",
       "      <td>0</td>\n",
       "      <td>1</td>\n",
       "      <td>...</td>\n",
       "      <td>0</td>\n",
       "      <td>0</td>\n",
       "      <td>0</td>\n",
       "      <td>0</td>\n",
       "      <td>0</td>\n",
       "      <td>1</td>\n",
       "      <td>0</td>\n",
       "      <td>0</td>\n",
       "      <td>0</td>\n",
       "      <td>0</td>\n",
       "    </tr>\n",
       "    <tr>\n",
       "      <th>4</th>\n",
       "      <td>5</td>\n",
       "      <td>Father of the Bride Part II (1995)</td>\n",
       "      <td>0</td>\n",
       "      <td>0</td>\n",
       "      <td>0</td>\n",
       "      <td>0</td>\n",
       "      <td>1</td>\n",
       "      <td>0</td>\n",
       "      <td>0</td>\n",
       "      <td>0</td>\n",
       "      <td>...</td>\n",
       "      <td>0</td>\n",
       "      <td>0</td>\n",
       "      <td>0</td>\n",
       "      <td>0</td>\n",
       "      <td>0</td>\n",
       "      <td>0</td>\n",
       "      <td>0</td>\n",
       "      <td>0</td>\n",
       "      <td>0</td>\n",
       "      <td>0</td>\n",
       "    </tr>\n",
       "  </tbody>\n",
       "</table>\n",
       "<p>5 rows × 21 columns</p>\n",
       "</div>"
      ],
      "text/plain": [
       "   movieId                               title  Action  Adventure  Animation  \\\n",
       "0        1                    Toy Story (1995)       0          1          1   \n",
       "1        2                      Jumanji (1995)       0          1          0   \n",
       "2        3             Grumpier Old Men (1995)       0          0          0   \n",
       "3        4            Waiting to Exhale (1995)       0          0          0   \n",
       "4        5  Father of the Bride Part II (1995)       0          0          0   \n",
       "\n",
       "   Children  Comedy  Crime  Documentary  Drama   ...     Film-Noir  Horror  \\\n",
       "0         1       1      0            0      0   ...             0       0   \n",
       "1         1       0      0            0      0   ...             0       0   \n",
       "2         0       1      0            0      0   ...             0       0   \n",
       "3         0       1      0            0      1   ...             0       0   \n",
       "4         0       1      0            0      0   ...             0       0   \n",
       "\n",
       "   IMAX  Musical  Mystery  Romance  Sci-Fi  Thriller  War  Western  \n",
       "0     0        0        0        0       0         0    0        0  \n",
       "1     0        0        0        0       0         0    0        0  \n",
       "2     0        0        0        1       0         0    0        0  \n",
       "3     0        0        0        1       0         0    0        0  \n",
       "4     0        0        0        0       0         0    0        0  \n",
       "\n",
       "[5 rows x 21 columns]"
      ]
     },
     "execution_count": 19,
     "metadata": {},
     "output_type": "execute_result"
    }
   ],
   "source": [
    "movies = pd.concat([movies, movies.genres.str.get_dummies(sep='|')], axis=1)\n",
    "del movies[\"genres\"]\n",
    "del movies[\"(no genres listed)\"]\n",
    "print(movies.shape)\n",
    "movies.head()"
   ]
  },
  {
   "cell_type": "markdown",
   "metadata": {},
   "source": [
    "The **movies** dataframe now has 21 columns instead of three: **movieId**, **title**, **Action**, **Adventure**, **Animation**, **Children**, **Comedy**, **Crime**, **Documentary**, **Drama**, **Fantasy**, **Film-Noir**, **Horror**, **IMAX**, **Musical**, **Mystery**, **Romance**, **Sci-Fi**, **Thriller**, **War** and **Western**."
   ]
  },
  {
   "cell_type": "markdown",
   "metadata": {},
   "source": [
    "We create a year list (**year_list**) in order to plot a year distribution bar chart."
   ]
  },
  {
   "cell_type": "code",
   "execution_count": 20,
   "metadata": {
    "collapsed": false
   },
   "outputs": [
    {
     "data": {
      "text/plain": [
       "<matplotlib.axes._subplots.AxesSubplot at 0x278eb0c3cc0>"
      ]
     },
     "execution_count": 20,
     "metadata": {},
     "output_type": "execute_result"
    },
    {
     "data": {
      "image/png": "[encoded data removed]",
      "text/plain": [
       "<matplotlib.figure.Figure at 0x278eb1d8fd0>"
      ]
     },
     "metadata": {},
     "output_type": "display_data"
    }
   ],
   "source": [
    "year_list = []\n",
    "for row in movies[\"title\"]:\n",
    "    x = re.search(r\"\\(\\d{4}\\)\", row)\n",
    "    if x:\n",
    "        y = x.group(0)\n",
    "    year_list.append(y[1:-1])\n",
    "\n",
    "year_count = Counter(year_list)\n",
    "year_count_30 = year_count .most_common(20)\n",
    "year_dict = dict(year_count_30)\n",
    "year_df = pd.DataFrame(year_dict, index=[0])\n",
    "\n",
    "plt.title(\"Movie release year distribution\")\n",
    "plt.xlabel(\"Year\")\n",
    "plt.ylabel(\"Number of occurrences\")\n",
    "year_df.iloc[-1].plot(kind='bar')"
   ]
  },
  {
   "cell_type": "markdown",
   "metadata": {},
   "source": [
    "The data in MovieLens 20M was created between January 09, 1995 and March 31, 2015, so it is reasonable that movies released in 2015 are not represented in the top 20 of the Year distribution bar graph and that movies released prior to 1995 are not in the top 20 of the Year distribution bar graph."
   ]
  },
  {
   "cell_type": "code",
   "execution_count": 21,
   "metadata": {
    "collapsed": false
   },
   "outputs": [
    {
     "data": {
      "text/html": [
       "<div>\n",
       "<table border=\"1\" class=\"dataframe\">\n",
       "  <thead>\n",
       "    <tr style=\"text-align: right;\">\n",
       "      <th></th>\n",
       "      <th>movieId</th>\n",
       "      <th>title</th>\n",
       "      <th>Action</th>\n",
       "      <th>Adventure</th>\n",
       "      <th>Animation</th>\n",
       "      <th>Children</th>\n",
       "      <th>Comedy</th>\n",
       "      <th>Crime</th>\n",
       "      <th>Documentary</th>\n",
       "      <th>Drama</th>\n",
       "      <th>...</th>\n",
       "      <th>Film-Noir</th>\n",
       "      <th>Horror</th>\n",
       "      <th>IMAX</th>\n",
       "      <th>Musical</th>\n",
       "      <th>Mystery</th>\n",
       "      <th>Romance</th>\n",
       "      <th>Sci-Fi</th>\n",
       "      <th>Thriller</th>\n",
       "      <th>War</th>\n",
       "      <th>Western</th>\n",
       "    </tr>\n",
       "  </thead>\n",
       "  <tbody>\n",
       "    <tr>\n",
       "      <th>27274</th>\n",
       "      <td>131256</td>\n",
       "      <td>Feuer, Eis &amp; Dosenbier (2002)</td>\n",
       "      <td>0.0</td>\n",
       "      <td>0.0</td>\n",
       "      <td>0.0</td>\n",
       "      <td>0.0</td>\n",
       "      <td>1.0</td>\n",
       "      <td>0.0</td>\n",
       "      <td>0.0</td>\n",
       "      <td>0.0</td>\n",
       "      <td>...</td>\n",
       "      <td>0.0</td>\n",
       "      <td>0.0</td>\n",
       "      <td>0.0</td>\n",
       "      <td>0.0</td>\n",
       "      <td>0.0</td>\n",
       "      <td>0.0</td>\n",
       "      <td>0.0</td>\n",
       "      <td>0.0</td>\n",
       "      <td>0.0</td>\n",
       "      <td>0.0</td>\n",
       "    </tr>\n",
       "    <tr>\n",
       "      <th>27275</th>\n",
       "      <td>131258</td>\n",
       "      <td>The Pirates (2014)</td>\n",
       "      <td>0.0</td>\n",
       "      <td>1.0</td>\n",
       "      <td>0.0</td>\n",
       "      <td>0.0</td>\n",
       "      <td>0.0</td>\n",
       "      <td>0.0</td>\n",
       "      <td>0.0</td>\n",
       "      <td>0.0</td>\n",
       "      <td>...</td>\n",
       "      <td>0.0</td>\n",
       "      <td>0.0</td>\n",
       "      <td>0.0</td>\n",
       "      <td>0.0</td>\n",
       "      <td>0.0</td>\n",
       "      <td>0.0</td>\n",
       "      <td>0.0</td>\n",
       "      <td>0.0</td>\n",
       "      <td>0.0</td>\n",
       "      <td>0.0</td>\n",
       "    </tr>\n",
       "    <tr>\n",
       "      <th>27276</th>\n",
       "      <td>131260</td>\n",
       "      <td>Rentun Ruusu (2001)</td>\n",
       "      <td>0.0</td>\n",
       "      <td>0.0</td>\n",
       "      <td>0.0</td>\n",
       "      <td>0.0</td>\n",
       "      <td>0.0</td>\n",
       "      <td>0.0</td>\n",
       "      <td>0.0</td>\n",
       "      <td>0.0</td>\n",
       "      <td>...</td>\n",
       "      <td>0.0</td>\n",
       "      <td>0.0</td>\n",
       "      <td>0.0</td>\n",
       "      <td>0.0</td>\n",
       "      <td>0.0</td>\n",
       "      <td>0.0</td>\n",
       "      <td>0.0</td>\n",
       "      <td>0.0</td>\n",
       "      <td>0.0</td>\n",
       "      <td>0.0</td>\n",
       "    </tr>\n",
       "    <tr>\n",
       "      <th>27277</th>\n",
       "      <td>131262</td>\n",
       "      <td>Innocence (2014)</td>\n",
       "      <td>0.0</td>\n",
       "      <td>1.0</td>\n",
       "      <td>0.0</td>\n",
       "      <td>0.0</td>\n",
       "      <td>0.0</td>\n",
       "      <td>0.0</td>\n",
       "      <td>0.0</td>\n",
       "      <td>0.0</td>\n",
       "      <td>...</td>\n",
       "      <td>0.0</td>\n",
       "      <td>1.0</td>\n",
       "      <td>0.0</td>\n",
       "      <td>0.0</td>\n",
       "      <td>0.0</td>\n",
       "      <td>0.0</td>\n",
       "      <td>0.0</td>\n",
       "      <td>0.0</td>\n",
       "      <td>0.0</td>\n",
       "      <td>0.0</td>\n",
       "    </tr>\n",
       "    <tr>\n",
       "      <th>Total</th>\n",
       "      <td>None</td>\n",
       "      <td>NaN</td>\n",
       "      <td>3520.0</td>\n",
       "      <td>2329.0</td>\n",
       "      <td>1027.0</td>\n",
       "      <td>1139.0</td>\n",
       "      <td>8374.0</td>\n",
       "      <td>2939.0</td>\n",
       "      <td>2471.0</td>\n",
       "      <td>13344.0</td>\n",
       "      <td>...</td>\n",
       "      <td>330.0</td>\n",
       "      <td>2611.0</td>\n",
       "      <td>196.0</td>\n",
       "      <td>1036.0</td>\n",
       "      <td>1514.0</td>\n",
       "      <td>4127.0</td>\n",
       "      <td>1743.0</td>\n",
       "      <td>4178.0</td>\n",
       "      <td>1194.0</td>\n",
       "      <td>676.0</td>\n",
       "    </tr>\n",
       "  </tbody>\n",
       "</table>\n",
       "<p>5 rows × 21 columns</p>\n",
       "</div>"
      ],
      "text/plain": [
       "      movieId                          title  Action  Adventure  Animation  \\\n",
       "27274  131256  Feuer, Eis & Dosenbier (2002)     0.0        0.0        0.0   \n",
       "27275  131258             The Pirates (2014)     0.0        1.0        0.0   \n",
       "27276  131260            Rentun Ruusu (2001)     0.0        0.0        0.0   \n",
       "27277  131262               Innocence (2014)     0.0        1.0        0.0   \n",
       "Total    None                            NaN  3520.0     2329.0     1027.0   \n",
       "\n",
       "       Children  Comedy   Crime  Documentary    Drama   ...     Film-Noir  \\\n",
       "27274       0.0     1.0     0.0          0.0      0.0   ...           0.0   \n",
       "27275       0.0     0.0     0.0          0.0      0.0   ...           0.0   \n",
       "27276       0.0     0.0     0.0          0.0      0.0   ...           0.0   \n",
       "27277       0.0     0.0     0.0          0.0      0.0   ...           0.0   \n",
       "Total    1139.0  8374.0  2939.0       2471.0  13344.0   ...         330.0   \n",
       "\n",
       "       Horror   IMAX  Musical  Mystery  Romance  Sci-Fi  Thriller     War  \\\n",
       "27274     0.0    0.0      0.0      0.0      0.0     0.0       0.0     0.0   \n",
       "27275     0.0    0.0      0.0      0.0      0.0     0.0       0.0     0.0   \n",
       "27276     0.0    0.0      0.0      0.0      0.0     0.0       0.0     0.0   \n",
       "27277     1.0    0.0      0.0      0.0      0.0     0.0       0.0     0.0   \n",
       "Total  2611.0  196.0   1036.0   1514.0   4127.0  1743.0    4178.0  1194.0   \n",
       "\n",
       "       Western  \n",
       "27274      0.0  \n",
       "27275      0.0  \n",
       "27276      0.0  \n",
       "27277      0.0  \n",
       "Total    676.0  \n",
       "\n",
       "[5 rows x 21 columns]"
      ]
     },
     "execution_count": 21,
     "metadata": {},
     "output_type": "execute_result"
    }
   ],
   "source": [
    "movies.loc[\"Total\"] = movies.sum(numeric_only=True)\n",
    "movies.iloc[-1, movies.columns.get_loc('movieId')] = \"None\"\n",
    "movies.tail()"
   ]
  },
  {
   "cell_type": "markdown",
   "metadata": {},
   "source": [
    "We calculate a total of different genres for the entire **movies** dataframe in order to create a Genre distribution bar chart."
   ]
  },
  {
   "cell_type": "code",
   "execution_count": 22,
   "metadata": {
    "collapsed": false
   },
   "outputs": [
    {
     "data": {
      "text/plain": [
       "<matplotlib.axes._subplots.AxesSubplot at 0x278ebce9d30>"
      ]
     },
     "execution_count": 22,
     "metadata": {},
     "output_type": "execute_result"
    },
    {
     "data": {
      "image/png": "[encoded data removed]",
      "text/plain": [
       "<matplotlib.figure.Figure at 0x278eb056780>"
      ]
     },
     "metadata": {},
     "output_type": "display_data"
    }
   ],
   "source": [
    "total_row = movies.iloc[-1]\n",
    "total_row = total_row.drop(['movieId', 'title'])\n",
    "plt.xlabel(\"Movie genres\")\n",
    "plt.ylabel(\"Number of occurrences\")\n",
    "plt.title(\"Genre distribution\")\n",
    "total_row.plot(kind='bar')"
   ]
  },
  {
   "cell_type": "markdown",
   "metadata": {
    "collapsed": true
   },
   "source": [
    "As we can see from the bar chart, **Drama**, **Comedy**, **Thriller**, **Romance** and **Action** are the five most frequent genres in the MovieLens 20M dataset."
   ]
  },
  {
   "cell_type": "code",
   "execution_count": 3,
   "metadata": {
    "collapsed": false
   },
   "outputs": [
    {
     "name": "stdout",
     "output_type": "stream",
     "text": [
      "(100004, 4)\n"
     ]
    },
    {
     "data": {
      "text/html": [
       "<div>\n",
       "<table border=\"1\" class=\"dataframe\">\n",
       "  <thead>\n",
       "    <tr style=\"text-align: right;\">\n",
       "      <th></th>\n",
       "      <th>userId</th>\n",
       "      <th>movieId</th>\n",
       "      <th>rating</th>\n",
       "      <th>timestamp</th>\n",
       "    </tr>\n",
       "  </thead>\n",
       "  <tbody>\n",
       "    <tr>\n",
       "      <th>0</th>\n",
       "      <td>1</td>\n",
       "      <td>31</td>\n",
       "      <td>2.5</td>\n",
       "      <td>1260759144</td>\n",
       "    </tr>\n",
       "    <tr>\n",
       "      <th>1</th>\n",
       "      <td>1</td>\n",
       "      <td>1029</td>\n",
       "      <td>3.0</td>\n",
       "      <td>1260759179</td>\n",
       "    </tr>\n",
       "    <tr>\n",
       "      <th>2</th>\n",
       "      <td>1</td>\n",
       "      <td>1061</td>\n",
       "      <td>3.0</td>\n",
       "      <td>1260759182</td>\n",
       "    </tr>\n",
       "    <tr>\n",
       "      <th>3</th>\n",
       "      <td>1</td>\n",
       "      <td>1129</td>\n",
       "      <td>2.0</td>\n",
       "      <td>1260759185</td>\n",
       "    </tr>\n",
       "    <tr>\n",
       "      <th>4</th>\n",
       "      <td>1</td>\n",
       "      <td>1172</td>\n",
       "      <td>4.0</td>\n",
       "      <td>1260759205</td>\n",
       "    </tr>\n",
       "  </tbody>\n",
       "</table>\n",
       "</div>"
      ],
      "text/plain": [
       "   userId  movieId  rating   timestamp\n",
       "0       1       31     2.5  1260759144\n",
       "1       1     1029     3.0  1260759179\n",
       "2       1     1061     3.0  1260759182\n",
       "3       1     1129     2.0  1260759185\n",
       "4       1     1172     4.0  1260759205"
      ]
     },
     "execution_count": 3,
     "metadata": {},
     "output_type": "execute_result"
    }
   ],
   "source": [
    "ratings = pd.read_csv('ml-latest-small/ratings.csv')\n",
    "print(ratings.shape)\n",
    "ratings.head()"
   ]
  },
  {
   "cell_type": "code",
   "execution_count": 24,
   "metadata": {
    "collapsed": false
   },
   "outputs": [
    {
     "name": "stdout",
     "output_type": "stream",
     "text": [
      "3.5255285642993797\n"
     ]
    }
   ],
   "source": [
    "ratings_mean = ratings[\"rating\"].mean()\n",
    "print(ratings_mean)"
   ]
  },
  {
   "cell_type": "markdown",
   "metadata": {},
   "source": [
    "The **ratings** dataframe has 20000263 rows and four columns labeled **userId**, **movieId**, **rating** and **timestamp**. The ratings mean is 3.526."
   ]
  },
  {
   "cell_type": "code",
   "execution_count": 25,
   "metadata": {
    "collapsed": false
   },
   "outputs": [
    {
     "data": {
      "text/plain": [
       "<matplotlib.axes._subplots.AxesSubplot at 0x278ec5304a8>"
      ]
     },
     "execution_count": 25,
     "metadata": {},
     "output_type": "execute_result"
    },
    {
     "data": {
      "image/png": "[encoded data removed]",
      "text/plain": [
       "<matplotlib.figure.Figure at 0x278ec56a208>"
      ]
     },
     "metadata": {},
     "output_type": "display_data"
    }
   ],
   "source": [
    "ratings_list = ratings[\"rating\"].tolist()\n",
    "ratings_count = Counter(ratings_list)\n",
    "ratings_dict = dict(ratings_count)\n",
    "\n",
    "ratings_count_df = pd.DataFrame(ratings_dict, index=[0])\n",
    "\n",
    "plt.title(\"Ratings distribution\")\n",
    "plt.xlabel(\"Rating value\")\n",
    "plt.ylabel(\"Number of occurrences\")\n",
    "ratings_count_df.iloc[-1].plot(kind='bar')"
   ]
  },
  {
   "cell_type": "markdown",
   "metadata": {},
   "source": [
    "It is interesting to note from the graph that whole number ratings (1.0, 2.0, 3.0, 4.0 and 5.0) are more frequent than .5 ratings (0.5, 1.5, 2.5, 3.5 and 4.5)."
   ]
  },
  {
   "cell_type": "markdown",
   "metadata": {},
   "source": [
    "By merging the **movies** and **ratings** dataframe into the **movie_data** dataframe, we can determine the top rated movies in MovieLens 20M."
   ]
  },
  {
   "cell_type": "code",
   "execution_count": null,
   "metadata": {
    "collapsed": true
   },
   "outputs": [],
   "source": [
    "movie_data = pd.merge(movies, ratings)"
   ]
  },
  {
   "cell_type": "code",
   "execution_count": 12,
   "metadata": {
    "collapsed": false
   },
   "outputs": [
    {
     "name": "stdout",
     "output_type": "stream",
     "text": [
      "Top rated movies in MovieLens 20M:\n",
      "\n"
     ]
    },
    {
     "data": {
      "text/plain": [
       "(None, title\n",
       " Forrest Gump (1994)                                                               341\n",
       " Pulp Fiction (1994)                                                               324\n",
       " Shawshank Redemption, The (1994)                                                  311\n",
       " Silence of the Lambs, The (1991)                                                  304\n",
       " Star Wars: Episode IV - A New Hope (1977)                                         291\n",
       " Jurassic Park (1993)                                                              274\n",
       " Matrix, The (1999)                                                                259\n",
       " Toy Story (1995)                                                                  247\n",
       " Schindler's List (1993)                                                           244\n",
       " Terminator 2: Judgment Day (1991)                                                 237\n",
       " Star Wars: Episode V - The Empire Strikes Back (1980)                             234\n",
       " Braveheart (1995)                                                                 228\n",
       " Back to the Future (1985)                                                         226\n",
       " Fargo (1996)                                                                      224\n",
       " Raiders of the Lost Ark (Indiana Jones and the Raiders of the Lost Ark) (1981)    220\n",
       " American Beauty (1999)                                                            220\n",
       " Independence Day (a.k.a. ID4) (1996)                                              218\n",
       " Star Wars: Episode VI - Return of the Jedi (1983)                                 217\n",
       " Aladdin (1992)                                                                    215\n",
       " Fugitive, The (1993)                                                              213\n",
       " dtype: int64)"
      ]
     },
     "execution_count": 12,
     "metadata": {},
     "output_type": "execute_result"
    }
   ],
   "source": [
    "print(\"Top rated movies in MovieLens 20M:\\n\"), movie_data.groupby('title').size().sort_values(ascending=False)[:20]"
   ]
  },
  {
   "cell_type": "markdown",
   "metadata": {},
   "source": [
    "Let's look at the top 20 movies from IMDB (http://www.imdb.com/chart/top).\n",
    "    \n",
    "     1. The Shawshank Redemption (1994)\t9.2\t\t\n",
    " \t2. The Godfather (1972)\t9.2\t\t\n",
    " \t3. The Godfather: Part II (1974)\t9.0\t\t\n",
    " \t4. The Dark Knight (2008)\t9.0\t\t\n",
    " \t5. 12 Angry Men (1957)\t8.9\t\t\n",
    " \t6. Schindler's List (1993)\t8.9\t\t\n",
    " \t7. Pulp Fiction (1994)\t8.9\t\t\n",
    " \t8. The Lord of the Rings: The Return of the King (2003)\t8.9\t\t\n",
    " \t9. The Good, the Bad and the Ugly (1966)\t8.8\t\t\n",
    " \t10. Fight Club (1999)\t8.8\t\t\n",
    " \t11. The Lord of the Rings: The Fellowship of the Ring (2001)\t8.8\t\t\n",
    " \t12. Forrest Gump (1994)\t8.7\t\t\n",
    " \t13. Star Wars: Episode V - The Empire Strikes Back (1980)\t8.7\t\t\n",
    " \t14. Inception (2010)\t8.7\t\t\n",
    " \t15. The Lord of the Rings: The Two Towers (2002)\t8.7\t\t\n",
    " \t16. One Flew Over the Cuckoo's Nest (1975)\t8.7\t\t\n",
    " \t17. Goodfellas (1990)\t8.7\t\t\n",
    " \t18. The Matrix (1999)\t8.7\t\t\n",
    " \t19. Seven Samurai (1954)\t8.6\t\t\n",
    " \t20. Star Wars: Episode IV - A New Hope (1977)\t8.6\n",
    "    \n",
    "Some of the movies that are in the IMDB top 20, like The Shawshank Redemption, Star Wars: Episode IV and Star Wars: Episode V are also in the MovieLens 20M top 20, but the IMDB top 20 contains more movies released before 1985, like The Godfather, 12 Angry Men, The Good, the Bad and the Ugly, and less movies released after 1985."
   ]
  },
  {
   "cell_type": "code",
   "execution_count": 13,
   "metadata": {
    "collapsed": false
   },
   "outputs": [
    {
     "name": "stdout",
     "output_type": "stream",
     "text": [
      "(100004, 4)\n"
     ]
    },
    {
     "data": {
      "text/html": [
       "<div>\n",
       "<table border=\"1\" class=\"dataframe\">\n",
       "  <thead>\n",
       "    <tr style=\"text-align: right;\">\n",
       "      <th></th>\n",
       "      <th>userId</th>\n",
       "      <th>movieId</th>\n",
       "      <th>tag</th>\n",
       "      <th>timestamp</th>\n",
       "    </tr>\n",
       "  </thead>\n",
       "  <tbody>\n",
       "    <tr>\n",
       "      <th>0</th>\n",
       "      <td>15</td>\n",
       "      <td>339</td>\n",
       "      <td>sandra 'boring' bullock</td>\n",
       "      <td>1138537770</td>\n",
       "    </tr>\n",
       "    <tr>\n",
       "      <th>1</th>\n",
       "      <td>15</td>\n",
       "      <td>1955</td>\n",
       "      <td>dentist</td>\n",
       "      <td>1193435061</td>\n",
       "    </tr>\n",
       "    <tr>\n",
       "      <th>2</th>\n",
       "      <td>15</td>\n",
       "      <td>7478</td>\n",
       "      <td>Cambodia</td>\n",
       "      <td>1170560997</td>\n",
       "    </tr>\n",
       "    <tr>\n",
       "      <th>3</th>\n",
       "      <td>15</td>\n",
       "      <td>32892</td>\n",
       "      <td>Russian</td>\n",
       "      <td>1170626366</td>\n",
       "    </tr>\n",
       "    <tr>\n",
       "      <th>4</th>\n",
       "      <td>15</td>\n",
       "      <td>34162</td>\n",
       "      <td>forgettable</td>\n",
       "      <td>1141391765</td>\n",
       "    </tr>\n",
       "  </tbody>\n",
       "</table>\n",
       "</div>"
      ],
      "text/plain": [
       "   userId  movieId                      tag   timestamp\n",
       "0      15      339  sandra 'boring' bullock  1138537770\n",
       "1      15     1955                  dentist  1193435061\n",
       "2      15     7478                 Cambodia  1170560997\n",
       "3      15    32892                  Russian  1170626366\n",
       "4      15    34162              forgettable  1141391765"
      ]
     },
     "execution_count": 13,
     "metadata": {},
     "output_type": "execute_result"
    }
   ],
   "source": [
    "tags = pd.read_csv('ml-20m/tags.csv')\n",
    "print(ratings.shape)\n",
    "tags.head()"
   ]
  },
  {
   "cell_type": "markdown",
   "metadata": {},
   "source": [
    "The **tags** dataframe has 20000263 rows and four columns labeled **userId**, **movieId**, **tag** and **timestamp**.\n",
    "We use the Counter module to calculate the 10 most frequent tags and create a bar plot"
   ]
  },
  {
   "cell_type": "code",
   "execution_count": 14,
   "metadata": {
    "collapsed": false
   },
   "outputs": [
    {
     "data": {
      "text/plain": [
       "<matplotlib.axes._subplots.AxesSubplot at 0x278ec128860>"
      ]
     },
     "execution_count": 14,
     "metadata": {},
     "output_type": "execute_result"
    },
    {
     "data": {
      "image/png": "[encoded data removed]",
      "text/plain": [
       "<matplotlib.figure.Figure at 0x278eb4be0b8>"
      ]
     },
     "metadata": {},
     "output_type": "display_data"
    }
   ],
   "source": [
    "tags_list = tags[\"tag\"].tolist()\n",
    "tag_count = Counter(tags_list)\n",
    "tag_count_10 = tag_count.most_common(10)\n",
    "tag_10_dict = dict(tag_count_10)\n",
    "plt.rcParams[\"figure.figsize\"] = [10,5]\n",
    "\n",
    "df = pd.DataFrame(tag_10_dict, index=[0])\n",
    "df_row = df.iloc[-1]\n",
    "\n",
    "plt.title(\"The 10 most frequent tags in MovieLens 20M\")\n",
    "plt.xlabel(\"Tag names\")\n",
    "plt.ylabel(\"Number of occurrences\")\n",
    "df_row.plot(kind='bar')"
   ]
  },
  {
   "cell_type": "code",
   "execution_count": 15,
   "metadata": {
    "collapsed": false
   },
   "outputs": [
    {
     "name": "stdout",
     "output_type": "stream",
     "text": [
      "(9125, 3)\n"
     ]
    },
    {
     "data": {
      "text/html": [
       "<div>\n",
       "<table border=\"1\" class=\"dataframe\">\n",
       "  <thead>\n",
       "    <tr style=\"text-align: right;\">\n",
       "      <th></th>\n",
       "      <th>movieId</th>\n",
       "      <th>imdbId</th>\n",
       "      <th>tmdbId</th>\n",
       "    </tr>\n",
       "  </thead>\n",
       "  <tbody>\n",
       "    <tr>\n",
       "      <th>0</th>\n",
       "      <td>1</td>\n",
       "      <td>114709</td>\n",
       "      <td>862.0</td>\n",
       "    </tr>\n",
       "    <tr>\n",
       "      <th>1</th>\n",
       "      <td>2</td>\n",
       "      <td>113497</td>\n",
       "      <td>8844.0</td>\n",
       "    </tr>\n",
       "    <tr>\n",
       "      <th>2</th>\n",
       "      <td>3</td>\n",
       "      <td>113228</td>\n",
       "      <td>15602.0</td>\n",
       "    </tr>\n",
       "    <tr>\n",
       "      <th>3</th>\n",
       "      <td>4</td>\n",
       "      <td>114885</td>\n",
       "      <td>31357.0</td>\n",
       "    </tr>\n",
       "    <tr>\n",
       "      <th>4</th>\n",
       "      <td>5</td>\n",
       "      <td>113041</td>\n",
       "      <td>11862.0</td>\n",
       "    </tr>\n",
       "  </tbody>\n",
       "</table>\n",
       "</div>"
      ],
      "text/plain": [
       "   movieId  imdbId   tmdbId\n",
       "0        1  114709    862.0\n",
       "1        2  113497   8844.0\n",
       "2        3  113228  15602.0\n",
       "3        4  114885  31357.0\n",
       "4        5  113041  11862.0"
      ]
     },
     "execution_count": 15,
     "metadata": {},
     "output_type": "execute_result"
    }
   ],
   "source": [
    "links = pd.read_csv('ml-20m/links.csv')\n",
    "print(links.shape)\n",
    "links.head()"
   ]
  },
  {
   "cell_type": "markdown",
   "metadata": {},
   "source": [
    "The **links** dataframe has 27278 rows and three columns labeled **movieId**, **imdbId** and **tmdbId**."
   ]
  },
  {
   "cell_type": "code",
   "execution_count": 17,
   "metadata": {
    "collapsed": false
   },
   "outputs": [
    {
     "ename": "OSError",
     "evalue": "File b'ml-latest-small/genome-tags.csv' does not exist",
     "output_type": "error",
     "traceback": [
      "\u001b[1;31m---------------------------------------------------------------------------\u001b[0m",
      "\u001b[1;31mOSError\u001b[0m                                   Traceback (most recent call last)",
      "\u001b[1;32m<ipython-input-17-1f26efad64f1>\u001b[0m in \u001b[0;36m<module>\u001b[1;34m()\u001b[0m\n\u001b[1;32m----> 1\u001b[1;33m \u001b[0mgenome_tags\u001b[0m \u001b[1;33m=\u001b[0m \u001b[0mpd\u001b[0m\u001b[1;33m.\u001b[0m\u001b[0mread_csv\u001b[0m\u001b[1;33m(\u001b[0m\u001b[1;34m'ml-latest-small/genome-tags.csv'\u001b[0m\u001b[1;33m)\u001b[0m\u001b[1;33m\u001b[0m\u001b[0m\n\u001b[0m\u001b[0;32m      2\u001b[0m \u001b[0mprint\u001b[0m\u001b[1;33m(\u001b[0m\u001b[0mgenome_tags\u001b[0m\u001b[1;33m.\u001b[0m\u001b[0mshape\u001b[0m\u001b[1;33m)\u001b[0m\u001b[1;33m\u001b[0m\u001b[0m\n\u001b[0;32m      3\u001b[0m \u001b[0mgenome_tags\u001b[0m\u001b[1;33m.\u001b[0m\u001b[0mhead\u001b[0m\u001b[1;33m(\u001b[0m\u001b[1;33m)\u001b[0m\u001b[1;33m\u001b[0m\u001b[0m\n",
      "\u001b[1;32md:\\anaconda\\lib\\site-packages\\pandas\\io\\parsers.py\u001b[0m in \u001b[0;36mparser_f\u001b[1;34m(filepath_or_buffer, sep, delimiter, header, names, index_col, usecols, squeeze, prefix, mangle_dupe_cols, dtype, engine, converters, true_values, false_values, skipinitialspace, skiprows, skipfooter, nrows, na_values, keep_default_na, na_filter, verbose, skip_blank_lines, parse_dates, infer_datetime_format, keep_date_col, date_parser, dayfirst, iterator, chunksize, compression, thousands, decimal, lineterminator, quotechar, quoting, escapechar, comment, encoding, dialect, tupleize_cols, error_bad_lines, warn_bad_lines, skip_footer, doublequote, delim_whitespace, as_recarray, compact_ints, use_unsigned, low_memory, buffer_lines, memory_map, float_precision)\u001b[0m\n\u001b[0;32m    560\u001b[0m                     skip_blank_lines=skip_blank_lines)\n\u001b[0;32m    561\u001b[0m \u001b[1;33m\u001b[0m\u001b[0m\n\u001b[1;32m--> 562\u001b[1;33m         \u001b[1;32mreturn\u001b[0m \u001b[0m_read\u001b[0m\u001b[1;33m(\u001b[0m\u001b[0mfilepath_or_buffer\u001b[0m\u001b[1;33m,\u001b[0m \u001b[0mkwds\u001b[0m\u001b[1;33m)\u001b[0m\u001b[1;33m\u001b[0m\u001b[0m\n\u001b[0m\u001b[0;32m    563\u001b[0m \u001b[1;33m\u001b[0m\u001b[0m\n\u001b[0;32m    564\u001b[0m     \u001b[0mparser_f\u001b[0m\u001b[1;33m.\u001b[0m\u001b[0m__name__\u001b[0m \u001b[1;33m=\u001b[0m \u001b[0mname\u001b[0m\u001b[1;33m\u001b[0m\u001b[0m\n",
      "\u001b[1;32md:\\anaconda\\lib\\site-packages\\pandas\\io\\parsers.py\u001b[0m in \u001b[0;36m_read\u001b[1;34m(filepath_or_buffer, kwds)\u001b[0m\n\u001b[0;32m    313\u001b[0m \u001b[1;33m\u001b[0m\u001b[0m\n\u001b[0;32m    314\u001b[0m     \u001b[1;31m# Create the parser.\u001b[0m\u001b[1;33m\u001b[0m\u001b[1;33m\u001b[0m\u001b[0m\n\u001b[1;32m--> 315\u001b[1;33m     \u001b[0mparser\u001b[0m \u001b[1;33m=\u001b[0m \u001b[0mTextFileReader\u001b[0m\u001b[1;33m(\u001b[0m\u001b[0mfilepath_or_buffer\u001b[0m\u001b[1;33m,\u001b[0m \u001b[1;33m**\u001b[0m\u001b[0mkwds\u001b[0m\u001b[1;33m)\u001b[0m\u001b[1;33m\u001b[0m\u001b[0m\n\u001b[0m\u001b[0;32m    316\u001b[0m \u001b[1;33m\u001b[0m\u001b[0m\n\u001b[0;32m    317\u001b[0m     \u001b[1;32mif\u001b[0m \u001b[1;33m(\u001b[0m\u001b[0mnrows\u001b[0m \u001b[1;32mis\u001b[0m \u001b[1;32mnot\u001b[0m \u001b[1;32mNone\u001b[0m\u001b[1;33m)\u001b[0m \u001b[1;32mand\u001b[0m \u001b[1;33m(\u001b[0m\u001b[0mchunksize\u001b[0m \u001b[1;32mis\u001b[0m \u001b[1;32mnot\u001b[0m \u001b[1;32mNone\u001b[0m\u001b[1;33m)\u001b[0m\u001b[1;33m:\u001b[0m\u001b[1;33m\u001b[0m\u001b[0m\n",
      "\u001b[1;32md:\\anaconda\\lib\\site-packages\\pandas\\io\\parsers.py\u001b[0m in \u001b[0;36m__init__\u001b[1;34m(self, f, engine, **kwds)\u001b[0m\n\u001b[0;32m    643\u001b[0m             \u001b[0mself\u001b[0m\u001b[1;33m.\u001b[0m\u001b[0moptions\u001b[0m\u001b[1;33m[\u001b[0m\u001b[1;34m'has_index_names'\u001b[0m\u001b[1;33m]\u001b[0m \u001b[1;33m=\u001b[0m \u001b[0mkwds\u001b[0m\u001b[1;33m[\u001b[0m\u001b[1;34m'has_index_names'\u001b[0m\u001b[1;33m]\u001b[0m\u001b[1;33m\u001b[0m\u001b[0m\n\u001b[0;32m    644\u001b[0m \u001b[1;33m\u001b[0m\u001b[0m\n\u001b[1;32m--> 645\u001b[1;33m         \u001b[0mself\u001b[0m\u001b[1;33m.\u001b[0m\u001b[0m_make_engine\u001b[0m\u001b[1;33m(\u001b[0m\u001b[0mself\u001b[0m\u001b[1;33m.\u001b[0m\u001b[0mengine\u001b[0m\u001b[1;33m)\u001b[0m\u001b[1;33m\u001b[0m\u001b[0m\n\u001b[0m\u001b[0;32m    646\u001b[0m \u001b[1;33m\u001b[0m\u001b[0m\n\u001b[0;32m    647\u001b[0m     \u001b[1;32mdef\u001b[0m \u001b[0mclose\u001b[0m\u001b[1;33m(\u001b[0m\u001b[0mself\u001b[0m\u001b[1;33m)\u001b[0m\u001b[1;33m:\u001b[0m\u001b[1;33m\u001b[0m\u001b[0m\n",
      "\u001b[1;32md:\\anaconda\\lib\\site-packages\\pandas\\io\\parsers.py\u001b[0m in \u001b[0;36m_make_engine\u001b[1;34m(self, engine)\u001b[0m\n\u001b[0;32m    797\u001b[0m     \u001b[1;32mdef\u001b[0m \u001b[0m_make_engine\u001b[0m\u001b[1;33m(\u001b[0m\u001b[0mself\u001b[0m\u001b[1;33m,\u001b[0m \u001b[0mengine\u001b[0m\u001b[1;33m=\u001b[0m\u001b[1;34m'c'\u001b[0m\u001b[1;33m)\u001b[0m\u001b[1;33m:\u001b[0m\u001b[1;33m\u001b[0m\u001b[0m\n\u001b[0;32m    798\u001b[0m         \u001b[1;32mif\u001b[0m \u001b[0mengine\u001b[0m \u001b[1;33m==\u001b[0m \u001b[1;34m'c'\u001b[0m\u001b[1;33m:\u001b[0m\u001b[1;33m\u001b[0m\u001b[0m\n\u001b[1;32m--> 799\u001b[1;33m             \u001b[0mself\u001b[0m\u001b[1;33m.\u001b[0m\u001b[0m_engine\u001b[0m \u001b[1;33m=\u001b[0m \u001b[0mCParserWrapper\u001b[0m\u001b[1;33m(\u001b[0m\u001b[0mself\u001b[0m\u001b[1;33m.\u001b[0m\u001b[0mf\u001b[0m\u001b[1;33m,\u001b[0m \u001b[1;33m**\u001b[0m\u001b[0mself\u001b[0m\u001b[1;33m.\u001b[0m\u001b[0moptions\u001b[0m\u001b[1;33m)\u001b[0m\u001b[1;33m\u001b[0m\u001b[0m\n\u001b[0m\u001b[0;32m    800\u001b[0m         \u001b[1;32melse\u001b[0m\u001b[1;33m:\u001b[0m\u001b[1;33m\u001b[0m\u001b[0m\n\u001b[0;32m    801\u001b[0m             \u001b[1;32mif\u001b[0m \u001b[0mengine\u001b[0m \u001b[1;33m==\u001b[0m \u001b[1;34m'python'\u001b[0m\u001b[1;33m:\u001b[0m\u001b[1;33m\u001b[0m\u001b[0m\n",
      "\u001b[1;32md:\\anaconda\\lib\\site-packages\\pandas\\io\\parsers.py\u001b[0m in \u001b[0;36m__init__\u001b[1;34m(self, src, **kwds)\u001b[0m\n\u001b[0;32m   1211\u001b[0m         \u001b[0mkwds\u001b[0m\u001b[1;33m[\u001b[0m\u001b[1;34m'allow_leading_cols'\u001b[0m\u001b[1;33m]\u001b[0m \u001b[1;33m=\u001b[0m \u001b[0mself\u001b[0m\u001b[1;33m.\u001b[0m\u001b[0mindex_col\u001b[0m \u001b[1;32mis\u001b[0m \u001b[1;32mnot\u001b[0m \u001b[1;32mFalse\u001b[0m\u001b[1;33m\u001b[0m\u001b[0m\n\u001b[0;32m   1212\u001b[0m \u001b[1;33m\u001b[0m\u001b[0m\n\u001b[1;32m-> 1213\u001b[1;33m         \u001b[0mself\u001b[0m\u001b[1;33m.\u001b[0m\u001b[0m_reader\u001b[0m \u001b[1;33m=\u001b[0m \u001b[0m_parser\u001b[0m\u001b[1;33m.\u001b[0m\u001b[0mTextReader\u001b[0m\u001b[1;33m(\u001b[0m\u001b[0msrc\u001b[0m\u001b[1;33m,\u001b[0m \u001b[1;33m**\u001b[0m\u001b[0mkwds\u001b[0m\u001b[1;33m)\u001b[0m\u001b[1;33m\u001b[0m\u001b[0m\n\u001b[0m\u001b[0;32m   1214\u001b[0m \u001b[1;33m\u001b[0m\u001b[0m\n\u001b[0;32m   1215\u001b[0m         \u001b[1;31m# XXX\u001b[0m\u001b[1;33m\u001b[0m\u001b[1;33m\u001b[0m\u001b[0m\n",
      "\u001b[1;32mpandas\\parser.pyx\u001b[0m in \u001b[0;36mpandas.parser.TextReader.__cinit__ (pandas\\parser.c:3427)\u001b[1;34m()\u001b[0m\n",
      "\u001b[1;32mpandas\\parser.pyx\u001b[0m in \u001b[0;36mpandas.parser.TextReader._setup_parser_source (pandas\\parser.c:6861)\u001b[1;34m()\u001b[0m\n",
      "\u001b[1;31mOSError\u001b[0m: File b'ml-latest-small/genome-tags.csv' does not exist"
     ]
    }
   ],
   "source": [
    "genome_tags = pd.read_csv('ml-20m/genome-tags.csv')\n",
    "print(genome_tags.shape)\n",
    "genome_tags.head()"
   ]
  },
  {
   "cell_type": "markdown",
   "metadata": {
    "collapsed": true
   },
   "source": [
    "The **genome_tags** dataframe has 20000263 rows and two columns labeled tagId, imdbId and tag."
   ]
  },
  {
   "cell_type": "code",
   "execution_count": 16,
   "metadata": {
    "collapsed": false
   },
   "outputs": [
    {
     "name": "stdout",
     "output_type": "stream",
     "text": [
      "(11709768, 3)\n"
     ]
    },
    {
     "data": {
      "text/html": [
       "<div>\n",
       "<style>\n",
       "    .dataframe thead tr:only-child th {\n",
       "        text-align: right;\n",
       "    }\n",
       "\n",
       "    .dataframe thead th {\n",
       "        text-align: left;\n",
       "    }\n",
       "\n",
       "    .dataframe tbody tr th {\n",
       "        vertical-align: top;\n",
       "    }\n",
       "</style>\n",
       "<table border=\"1\" class=\"dataframe\">\n",
       "  <thead>\n",
       "    <tr style=\"text-align: right;\">\n",
       "      <th></th>\n",
       "      <th>movieId</th>\n",
       "      <th>tagId</th>\n",
       "      <th>relevance</th>\n",
       "    </tr>\n",
       "  </thead>\n",
       "  <tbody>\n",
       "    <tr>\n",
       "      <th>0</th>\n",
       "      <td>1</td>\n",
       "      <td>1</td>\n",
       "      <td>0.02500</td>\n",
       "    </tr>\n",
       "    <tr>\n",
       "      <th>1</th>\n",
       "      <td>1</td>\n",
       "      <td>2</td>\n",
       "      <td>0.02500</td>\n",
       "    </tr>\n",
       "    <tr>\n",
       "      <th>2</th>\n",
       "      <td>1</td>\n",
       "      <td>3</td>\n",
       "      <td>0.05775</td>\n",
       "    </tr>\n",
       "    <tr>\n",
       "      <th>3</th>\n",
       "      <td>1</td>\n",
       "      <td>4</td>\n",
       "      <td>0.09675</td>\n",
       "    </tr>\n",
       "    <tr>\n",
       "      <th>4</th>\n",
       "      <td>1</td>\n",
       "      <td>5</td>\n",
       "      <td>0.14675</td>\n",
       "    </tr>\n",
       "  </tbody>\n",
       "</table>\n",
       "</div>"
      ],
      "text/plain": [
       "   movieId  tagId  relevance\n",
       "0        1      1    0.02500\n",
       "1        1      2    0.02500\n",
       "2        1      3    0.05775\n",
       "3        1      4    0.09675\n",
       "4        1      5    0.14675"
      ]
     },
     "execution_count": 16,
     "metadata": {},
     "output_type": "execute_result"
    }
   ],
   "source": [
    "genome_scores = pd.read_csv('ml-20m/genome-scores.csv', engine='python')\n",
    "print(genome_scores.shape)\n",
    "genome_scores.head()"
   ]
  },
  {
   "cell_type": "markdown",
   "metadata": {
    "collapsed": true
   },
   "source": [
    "The **genome_score** dataframe has 11709768 rows and three columns labeled **movieId**, **tagId** and **relevance**."
   ]
  },
  {
   "cell_type": "markdown",
   "metadata": {},
   "source": [
    "## 2. Developing a Movie Recommendation System"
   ]
  },
  {
   "cell_type": "markdown",
   "metadata": {},
   "source": [
    "The two most common approaches to developing a movie recommendation system are content based filtering, which uses information about the product, and collaborative filtering, which uses user generated data. \n",
    "Based on a comparative study by A. K. Sujatha of four different models for building a movie recommendation system (https://datatoanalytics.wordpress.com/2016/12/07/recommender-system-a-comparative-study/), we chose to use the collaborative filtering approach together with the Stochastic gradient descent algorithm in order to develop a movie recommendation system."
   ]
  },
  {
   "cell_type": "markdown",
   "metadata": {},
   "source": [
    "Out of the six csv files we loaded as dataframes, we will only use two, **movies** and **ratings**. In order to avoid a MemoryError, we slice the **ratings** dataframe, using only the first 100 000 rows. Depending on the hardware used to run this notebook, this number can be increased or decreased. Since the **ratings** dataframe is sorted according to the userId, we chose to use the first 100 000 rows instead of, for example, keeping every two-hundreth row. Our assumption was that it is more informative to have more ratings on a smaller number of users than smaller numbers of ratings per user on a larger subset of users."
   ]
  },
  {
   "cell_type": "code",
   "execution_count": 4,
   "metadata": {
    "collapsed": false
   },
   "outputs": [
    {
     "name": "stdout",
     "output_type": "stream",
     "text": [
      "(100000, 4)\n"
     ]
    }
   ],
   "source": [
    "ratings = ratings.iloc[:100000,:]\n",
    "print(ratings.shape)"
   ]
  },
  {
   "cell_type": "markdown",
   "metadata": {
    "collapsed": true
   },
   "source": [
    "Since we reduced the number of rows in the **ratings** dataframe, we also reduce the number of rows in the  **movies** dataframe, keeping only those rated in the 100000 version row of the **ratings** dataframe. "
   ]
  },
  {
   "cell_type": "code",
   "execution_count": 5,
   "metadata": {
    "collapsed": true
   },
   "outputs": [],
   "source": [
    "rated_movies_list = list(set(ratings.movieId.tolist()))\n",
    "rated_movies_df = movies[movies['movieId'].isin(rated_movies_list)]"
   ]
  },
  {
   "cell_type": "markdown",
   "metadata": {
    "collapsed": true
   },
   "source": [
    "We sort the **ratings** dataframe according to **movieId** instead of **userId**."
   ]
  },
  {
   "cell_type": "code",
   "execution_count": 6,
   "metadata": {
    "collapsed": false
   },
   "outputs": [
    {
     "data": {
      "text/html": [
       "<div>\n",
       "<table border=\"1\" class=\"dataframe\">\n",
       "  <thead>\n",
       "    <tr style=\"text-align: right;\">\n",
       "      <th></th>\n",
       "      <th>userId</th>\n",
       "      <th>movieId</th>\n",
       "      <th>rating</th>\n",
       "      <th>timestamp</th>\n",
       "    </tr>\n",
       "  </thead>\n",
       "  <tbody>\n",
       "    <tr>\n",
       "      <th>39546</th>\n",
       "      <td>287</td>\n",
       "      <td>161944</td>\n",
       "      <td>5.0</td>\n",
       "      <td>1470167824</td>\n",
       "    </tr>\n",
       "    <tr>\n",
       "      <th>11823</th>\n",
       "      <td>73</td>\n",
       "      <td>162376</td>\n",
       "      <td>4.5</td>\n",
       "      <td>1474255532</td>\n",
       "    </tr>\n",
       "    <tr>\n",
       "      <th>92339</th>\n",
       "      <td>611</td>\n",
       "      <td>162542</td>\n",
       "      <td>5.0</td>\n",
       "      <td>1471520667</td>\n",
       "    </tr>\n",
       "    <tr>\n",
       "      <th>92340</th>\n",
       "      <td>611</td>\n",
       "      <td>162672</td>\n",
       "      <td>3.0</td>\n",
       "      <td>1471523986</td>\n",
       "    </tr>\n",
       "    <tr>\n",
       "      <th>80823</th>\n",
       "      <td>547</td>\n",
       "      <td>163949</td>\n",
       "      <td>5.0</td>\n",
       "      <td>1476419239</td>\n",
       "    </tr>\n",
       "  </tbody>\n",
       "</table>\n",
       "</div>"
      ],
      "text/plain": [
       "       userId  movieId  rating   timestamp\n",
       "39546     287   161944     5.0  1470167824\n",
       "11823      73   162376     4.5  1474255532\n",
       "92339     611   162542     5.0  1471520667\n",
       "92340     611   162672     3.0  1471523986\n",
       "80823     547   163949     5.0  1476419239"
      ]
     },
     "execution_count": 6,
     "metadata": {},
     "output_type": "execute_result"
    }
   ],
   "source": [
    "ratings_resorted = ratings.sort_values(\"movieId\")\n",
    "ratings_resorted.tail()"
   ]
  },
  {
   "cell_type": "markdown",
   "metadata": {
    "collapsed": true
   },
   "source": [
    "In order to avoid a future IndexError, we replace the movieId column of the **ratings_resorted** dataframe with a list of sequential numbers starting with zero."
   ]
  },
  {
   "cell_type": "code",
   "execution_count": 7,
   "metadata": {
    "collapsed": false
   },
   "outputs": [
    {
     "data": {
      "text/html": [
       "<div>\n",
       "<table border=\"1\" class=\"dataframe\">\n",
       "  <thead>\n",
       "    <tr style=\"text-align: right;\">\n",
       "      <th></th>\n",
       "      <th>userId</th>\n",
       "      <th>movieId</th>\n",
       "      <th>rating</th>\n",
       "      <th>timestamp</th>\n",
       "    </tr>\n",
       "  </thead>\n",
       "  <tbody>\n",
       "    <tr>\n",
       "      <th>39546</th>\n",
       "      <td>287</td>\n",
       "      <td>9061</td>\n",
       "      <td>5.0</td>\n",
       "      <td>1470167824</td>\n",
       "    </tr>\n",
       "    <tr>\n",
       "      <th>11823</th>\n",
       "      <td>73</td>\n",
       "      <td>9062</td>\n",
       "      <td>4.5</td>\n",
       "      <td>1474255532</td>\n",
       "    </tr>\n",
       "    <tr>\n",
       "      <th>92339</th>\n",
       "      <td>611</td>\n",
       "      <td>9063</td>\n",
       "      <td>5.0</td>\n",
       "      <td>1471520667</td>\n",
       "    </tr>\n",
       "    <tr>\n",
       "      <th>92340</th>\n",
       "      <td>611</td>\n",
       "      <td>9064</td>\n",
       "      <td>3.0</td>\n",
       "      <td>1471523986</td>\n",
       "    </tr>\n",
       "    <tr>\n",
       "      <th>80823</th>\n",
       "      <td>547</td>\n",
       "      <td>9065</td>\n",
       "      <td>5.0</td>\n",
       "      <td>1476419239</td>\n",
       "    </tr>\n",
       "  </tbody>\n",
       "</table>\n",
       "</div>"
      ],
      "text/plain": [
       "       userId  movieId  rating   timestamp\n",
       "39546     287     9061     5.0  1470167824\n",
       "11823      73     9062     4.5  1474255532\n",
       "92339     611     9063     5.0  1471520667\n",
       "92340     611     9064     3.0  1471523986\n",
       "80823     547     9065     5.0  1476419239"
      ]
     },
     "execution_count": 7,
     "metadata": {},
     "output_type": "execute_result"
    }
   ],
   "source": [
    "movieId_list_unique = sorted(list(set(ratings_resorted[\"movieId\"].tolist())), key=int)\n",
    "num_of_ratings = list(range(0, ratings_resorted.shape[0]))\n",
    "movieId_dict = dict(zip(movieId_list_unique, num_of_ratings))\n",
    "movieId_list = ratings_resorted[\"movieId\"].tolist()\n",
    "new_movieId_list = []\n",
    "counter = 0\n",
    "placeholder = 1\n",
    "\n",
    "for item in movieId_list:\n",
    "    if item == placeholder:\n",
    "        new_movieId_list.append(counter)\n",
    "    else:\n",
    "        counter += 1\n",
    "        new_movieId_list.append(counter)\n",
    "        placeholder = item\n",
    "        \n",
    "ratings_resorted[\"movieId\"] = new_movieId_list\n",
    "ratings_resorted.tail()"
   ]
  },
  {
   "cell_type": "markdown",
   "metadata": {},
   "source": [
    "We remap the movieId in the **rated_movies_df** dataframe. "
   ]
  },
  {
   "cell_type": "code",
   "execution_count": 8,
   "metadata": {
    "collapsed": false
   },
   "outputs": [
    {
     "data": {
      "text/html": [
       "<div>\n",
       "<table border=\"1\" class=\"dataframe\">\n",
       "  <thead>\n",
       "    <tr style=\"text-align: right;\">\n",
       "      <th></th>\n",
       "      <th>movieId</th>\n",
       "      <th>title</th>\n",
       "      <th>genres</th>\n",
       "    </tr>\n",
       "  </thead>\n",
       "  <tbody>\n",
       "    <tr>\n",
       "      <th>9117</th>\n",
       "      <td>9061</td>\n",
       "      <td>The Last Brickmaker in America (2001)</td>\n",
       "      <td>Drama</td>\n",
       "    </tr>\n",
       "    <tr>\n",
       "      <th>9118</th>\n",
       "      <td>9062</td>\n",
       "      <td>Stranger Things</td>\n",
       "      <td>Drama</td>\n",
       "    </tr>\n",
       "    <tr>\n",
       "      <th>9119</th>\n",
       "      <td>9063</td>\n",
       "      <td>Rustom (2016)</td>\n",
       "      <td>Romance|Thriller</td>\n",
       "    </tr>\n",
       "    <tr>\n",
       "      <th>9120</th>\n",
       "      <td>9064</td>\n",
       "      <td>Mohenjo Daro (2016)</td>\n",
       "      <td>Adventure|Drama|Romance</td>\n",
       "    </tr>\n",
       "    <tr>\n",
       "      <th>9122</th>\n",
       "      <td>9065</td>\n",
       "      <td>The Beatles: Eight Days a Week - The Touring Y...</td>\n",
       "      <td>Documentary</td>\n",
       "    </tr>\n",
       "  </tbody>\n",
       "</table>\n",
       "</div>"
      ],
      "text/plain": [
       "      movieId                                              title  \\\n",
       "9117     9061              The Last Brickmaker in America (2001)   \n",
       "9118     9062                                    Stranger Things   \n",
       "9119     9063                                      Rustom (2016)   \n",
       "9120     9064                                Mohenjo Daro (2016)   \n",
       "9122     9065  The Beatles: Eight Days a Week - The Touring Y...   \n",
       "\n",
       "                       genres  \n",
       "9117                    Drama  \n",
       "9118                    Drama  \n",
       "9119         Romance|Thriller  \n",
       "9120  Adventure|Drama|Romance  \n",
       "9122              Documentary  "
      ]
     },
     "execution_count": 8,
     "metadata": {},
     "output_type": "execute_result"
    }
   ],
   "source": [
    "rated_movies_df[\"movieId\"] = rated_movies_df.movieId.map(movieId_dict)\n",
    "rated_movies_df.tail()"
   ]
  },
  {
   "cell_type": "markdown",
   "metadata": {},
   "source": [
    "We resort the **ratings** dataframe by userId, returning it to its original state."
   ]
  },
  {
   "cell_type": "code",
   "execution_count": 9,
   "metadata": {
    "collapsed": true
   },
   "outputs": [],
   "source": [
    "ratings = ratings_resorted.sort_values(\"userId\")"
   ]
  },
  {
   "cell_type": "markdown",
   "metadata": {},
   "source": [
    "We define several functions which will be used later on."
   ]
  },
  {
   "cell_type": "code",
   "execution_count": 10,
   "metadata": {
    "collapsed": true
   },
   "outputs": [],
   "source": [
    "def rmse(prediction, ground_truth):\n",
    "    prediction = prediction[ground_truth.nonzero()].flatten()\n",
    "    ground_truth = ground_truth[ground_truth.nonzero()].flatten()\n",
    "    return sqrt(mean_squared_error(prediction, ground_truth))\n",
    " \n",
    "def top_k_movies_byuser(prediction, mapper, user_idx, k=6):\n",
    "    return [mapper[x] for x in np.argsort(prediction[user_idx,np.where(train_data_matrix[user_idx, :] == 0)[0]])[:-k-1:-1]]\n",
    "\n",
    "def predict(P,Q):\n",
    "    return np.dot(P.T,Q)"
   ]
  },
  {
   "cell_type": "markdown",
   "metadata": {},
   "source": [
    "We split the data into train and test data using scikit-learn. We create two user-item matrices, **train_data_matrix** and **test_data_matrix**. "
   ]
  },
  {
   "cell_type": "code",
   "execution_count": 11,
   "metadata": {
    "collapsed": true
   },
   "outputs": [],
   "source": [
    "trainRMSE = []\n",
    "testRMSE = []\n",
    "\n",
    "n_users = ratings.userId.unique().shape[0]\n",
    "n_items = ratings.movieId.unique().shape[0]\n",
    "\n",
    "train_data, test_data = train_test_split(ratings, test_size=0.25)\n",
    "\n",
    "train_data_matrix = np.zeros((n_users, n_items))\n",
    "for line in train_data.itertuples():\n",
    "    train_data_matrix[line[1]-1, line[2]-1] = line[3]\n",
    "    \n",
    "test_data_matrix = np.zeros((n_users, n_items))\n",
    "for line in test_data.itertuples():\n",
    "    test_data_matrix[line[1]-1, line[2]-1] = line[3]"
   ]
  },
  {
   "cell_type": "markdown",
   "metadata": {
    "collapsed": true
   },
   "source": [
    "We define parameters such as **iterations** and **gamma**, as well as **user_idx**, i.e. the user from the **ratings** dataframe, who will receive recommendations based on movies he or she has previously rated. "
   ]
  },
  {
   "cell_type": "code",
   "execution_count": 12,
   "metadata": {
    "collapsed": true
   },
   "outputs": [],
   "source": [
    "idx_to_movie = {}\n",
    "for index, row in rated_movies_df.iterrows():\n",
    "    idx_to_movie[int(row[\"movieId\"])] = row[\"title\"]\n",
    "    \n",
    "user_idx = 9\n",
    "\n",
    "lmbda = 0.1\n",
    "k = 20\n",
    "m, n = train_data_matrix.shape\n",
    "iterations = 100\n",
    "gamma = 0.01\n",
    "\n",
    "rated_by_user = ratings.loc[ratings['userId'] == user_idx+1]\n",
    "rated_by_user_idlist = rated_by_user[\"movieId\"].tolist()\n",
    "rated_by_user_names = movies[movies['movieId'].isin(rated_by_user_idlist)]\n",
    "rated_by_user_names = rated_by_user_names[\"title\"].tolist()"
   ]
  },
  {
   "cell_type": "markdown",
   "metadata": {
    "collapsed": true
   },
   "source": [
    "We generate several movie recommendations for the user with a **user_idx** value of 9."
   ]
  },
  {
   "cell_type": "code",
   "execution_count": 13,
   "metadata": {
    "collapsed": false
   },
   "outputs": [
    {
     "name": "stdout",
     "output_type": "stream",
     "text": [
      "Movies recommended to user 9 are:\n",
      "Mission: Impossible - Ghost Protocol (2011)\n",
      "Stay Alive (2006)\n",
      "Soul Men (2008)\n",
      "Deconstructing Harry (1997)\n",
      "Bukowski: Born into This (2003)\n",
      "Northanger Abbey (2007)\n"
     ]
    }
   ],
   "source": [
    "user_feature = 3 * np.random.rand(k,m)\n",
    "movie_feature = 3 * np.random.rand(k,n)\n",
    "train_errors = []\n",
    "test_errors = []\n",
    " \n",
    "users,items = train_data_matrix.nonzero()\n",
    "for iter in range(iterations):\n",
    "    for u, i in zip(users,items):\n",
    "        e = train_data_matrix[u, i] - predict(user_feature[:,u],movie_feature[:,i])\n",
    "        user_feature[:,u] += gamma * (e * movie_feature[:,i] - lmbda * user_feature[:,u])\n",
    "        movie_feature[:,i] += gamma * (e * user_feature[:,u] - lmbda * movie_feature[:,i])\n",
    "        \n",
    "    pred = predict(user_feature, movie_feature)\n",
    "    train_rmse = rmse(pred, train_data_matrix)\n",
    "    test_rmse = rmse(pred, test_data_matrix)\n",
    "    train_errors.append(train_rmse)\n",
    "    test_errors.append(test_rmse)\n",
    "    \n",
    "pred = predict(user_feature, movie_feature)\n",
    "sgdBasedTrainRMSE = rmse(pred, train_data_matrix)\n",
    "sgdBasedTestRMSE = rmse(pred, test_data_matrix)\n",
    "trainRMSE.append(sgdBasedTrainRMSE)\n",
    "testRMSE.append(sgdBasedTestRMSE)\n",
    " \n",
    "print(\"Movies recommended to user \" + str(user_idx) + \" are:\")\n",
    "nearestMovies = top_k_movies_byuser(pred, idx_to_movie, user_idx)\n",
    "for item in nearestMovies:\n",
    "    if item not in rated_by_user_names:\n",
    "        print(item)"
   ]
  },
  {
   "cell_type": "code",
   "execution_count": 21,
   "metadata": {
    "collapsed": false
   },
   "outputs": [
    {
     "name": "stdout",
     "output_type": "stream",
     "text": [
      "Movies recommended to user 4 are:\n",
      "Rocket Science (2007)\n",
      "Brick (2005)\n",
      "Pom Poko (a.k.a. Raccoon War, The) (Heisei tanuki gassen pompoko) (1994)\n",
      "Life in a Day (2011)\n",
      "G.I. Joe: Retaliation (2013)\n",
      "Night Moves (1975)\n"
     ]
    }
   ],
   "source": [
    "print(\"Movies recommended to user \" + str(4) + \" are:\")\n",
    "nearestMovies = top_k_movies_byuser(pred, idx_to_movie, 12)\n",
    "for item in nearestMovies:\n",
    "    if item not in rated_by_user_names:\n",
    "        print(item)"
   ]
  },
  {
   "cell_type": "markdown",
   "metadata": {},
   "source": [
    "## 3. Evaluating the Movie Recommendation System"
   ]
  },
  {
   "cell_type": "markdown",
   "metadata": {},
   "source": [
    "In order to evaluate the Recommendation System, we print the already calculated  root-mean-squared-error using both the train data and the test data."
   ]
  },
  {
   "cell_type": "code",
   "execution_count": 14,
   "metadata": {
    "collapsed": false
   },
   "outputs": [
    {
     "name": "stdout",
     "output_type": "stream",
     "text": [
      "User-based CF MSE on train data: 0.6912363556314144\n",
      "User-based CF MSE on test data: 1.1049088503663909\n",
      "\n"
     ]
    }
   ],
   "source": [
    "print('User-based CF MSE on train data: ' + str(sgdBasedTrainRMSE))\n",
    "print('User-based CF MSE on test data: ' + str(sgdBasedTestRMSE) + \"\\n\")"
   ]
  },
  {
   "cell_type": "markdown",
   "metadata": {},
   "source": [
    "The results are better than the root-mean-squared-errors calculated in \"Mastering Machine Learning with Python in six Steps\":\n",
    "\n",
    "User-based CF RMSE: 1.0705767849\n",
    "\n",
    "Item-based CF RMSE: 1.37392288971\n",
    "\n",
    "The results are also better than the root-mean-squared-errors calculated in the comparative study on movie recommender systems by A. K. Sujatha when algorithms other than SGD are used and similar when SGD is used (https://datatoanalytics.wordpress.com/2016/12/07/recommender-system-a-comparative-study/)."
   ]
  },
  {
   "cell_type": "markdown",
   "metadata": {},
   "source": [
    "We plot the **train_errors** list in order to see whether the number of epochs, i.e. the **iterators** variable, which was set to 100, was sufficiently large."
   ]
  },
  {
   "cell_type": "code",
   "execution_count": 28,
   "metadata": {
    "collapsed": false
   },
   "outputs": [
    {
     "data": {
      "image/png": "[encoded data removed]",
      "text/plain": [
       "<matplotlib.figure.Figure at 0x12dd974a8>"
      ]
     },
     "metadata": {},
     "output_type": "display_data"
    }
   ],
   "source": [
    "plt.plot(train_errors)\n",
    "plt.title(\"Train errors\")\n",
    "plt.xlabel('epoch')\n",
    "plt.ylabel('root-mean-square-error')\n",
    "plt.show()"
   ]
  },
  {
   "cell_type": "markdown",
   "metadata": {},
   "source": [
    "The graph indicates that 100 epochs were beneficial to reducing the root-mean-square-error and that a larger **iterations** variable would not significantly reduce the root-mean-square-error. We also plot the **test_errors list**, which also indicated that a larger iterations variable is not necessary."
   ]
  },
  {
   "cell_type": "code",
   "execution_count": 29,
   "metadata": {
    "collapsed": false
   },
   "outputs": [
    {
     "data": {
      "image/png": "[encoded data removed]",
      "text/plain": [
       "<matplotlib.figure.Figure at 0x1dc105f8>"
      ]
     },
     "metadata": {},
     "output_type": "display_data"
    }
   ],
   "source": [
    "plt.plot(test_errors)\n",
    "plt.title(\"Test errors\")\n",
    "plt.xlabel('epoch')\n",
    "plt.ylabel('root-mean-square-error')\n",
    "plt.show()"
   ]
  },
  {
   "cell_type": "markdown",
   "metadata": {
    "collapsed": true
   },
   "source": [
    "We also compare the ratings the user made with predicted ratings."
   ]
  },
  {
   "cell_type": "code",
   "execution_count": 30,
   "metadata": {
    "collapsed": false
   },
   "outputs": [
    {
     "name": "stdout",
     "output_type": "stream",
     "text": [
      "   Actual Rating  Predicted Rating\n",
      "0            4.0          3.358874\n",
      "1            4.0          3.420039\n",
      "2            4.0          4.136990\n",
      "3            3.0          3.779061\n",
      "4            5.0          4.176160\n",
      "5            5.0          4.299403\n",
      "6            4.0          4.012787\n",
      "7            4.0          3.873009\n",
      "8            3.0          3.375232\n",
      "9            4.0          3.868373\n"
     ]
    }
   ],
   "source": [
    "ratings_compare = pd.DataFrame(columns = (\"Actual Rating\",\"Predicted Rating\"))\n",
    "ratings_compare[\"Actual Rating\"] = train_data_matrix[user_idx,np.where(train_data_matrix[user_idx, :] > 0)[0]][0:10]\n",
    "ratings_compare[\"Predicted Rating\"] = pred[user_idx,np.where(train_data_matrix[user_idx, :] > 0)[0]][0:10]\n",
    "print(ratings_compare)"
   ]
  },
  {
   "cell_type": "markdown",
   "metadata": {},
   "source": [
    "## 4. Additional Test cases"
   ]
  },
  {
   "cell_type": "markdown",
   "metadata": {},
   "source": [
    "We will consider the already executed code to be first test case (with gamma = 0.01). In the second test case, we will use a gamma roughly three times smaller (gamma = 0.0033). "
   ]
  },
  {
   "cell_type": "code",
   "execution_count": 31,
   "metadata": {
    "collapsed": true
   },
   "outputs": [],
   "source": [
    "gamma = 0.0033"
   ]
  },
  {
   "cell_type": "code",
   "execution_count": 32,
   "metadata": {
    "collapsed": false
   },
   "outputs": [
    {
     "name": "stdout",
     "output_type": "stream",
     "text": [
      "Movies recommended to user 9 are:\n",
      "National Treasure (2004)\n",
      "Big Deal on Madonna Street (I Soliti Ignoti) (1958)\n",
      "Rock of Ages (2012)\n",
      "Wolves (1999)\n",
      "Getaway, The (1972)\n",
      "Four Feathers, The (2002)\n",
      "User-based CF MSE on train data: 0.8125231437496904\n",
      "User-based CF MSE on test data: 1.1302356418090163\n",
      "\n"
     ]
    }
   ],
   "source": [
    "user_feature = 3 * np.random.rand(k,m)\n",
    "movie_feature = 3 * np.random.rand(k,n)\n",
    "train_errors = []\n",
    "test_errors = []\n",
    " \n",
    "users,items = train_data_matrix.nonzero()\n",
    "for iter in range(iterations):\n",
    "    for u, i in zip(users,items):\n",
    "        e = train_data_matrix[u, i] - predict(user_feature[:,u],movie_feature[:,i])\n",
    "        user_feature[:,u] += gamma * ( e * movie_feature[:,i] - lmbda * user_feature[:,u])\n",
    "        movie_feature[:,i] += gamma * ( e * user_feature[:,u] - lmbda * movie_feature[:,i])\n",
    "        \n",
    "    pred = predict(user_feature, movie_feature)\n",
    "    train_rmse = rmse(pred, train_data_matrix)\n",
    "    test_rmse = rmse(pred, test_data_matrix)\n",
    "    train_errors.append(train_rmse)\n",
    "    test_errors.append(test_rmse)\n",
    "    \n",
    "pred = predict(user_feature, movie_feature)\n",
    "sgdBasedTrainRMSE = rmse(pred, train_data_matrix)\n",
    "sgdBasedTestRMSE = rmse(pred, test_data_matrix)\n",
    "trainRMSE.append(sgdBasedTrainRMSE)\n",
    "testRMSE.append(sgdBasedTestRMSE)\n",
    " \n",
    "print(\"Movies recommended to user \" + str(user_idx) + \" are:\")\n",
    "nearestMovies = top_k_movies_byuser(pred, idx_to_movie, user_idx)\n",
    "for item in nearestMovies:\n",
    "    if item not in rated_by_user_names:\n",
    "        print(item)\n",
    "\n",
    "print('User-based CF MSE on train data: ' + str(sgdBasedTrainRMSE))\n",
    "print('User-based CF MSE on test data: ' + str(sgdBasedTestRMSE) + \"\\n\")"
   ]
  },
  {
   "cell_type": "markdown",
   "metadata": {},
   "source": [
    "The second test case with a smaller gamma resulted in a larger root-mean-square-error, which tells us it could be effective to try to use a larger gamma."
   ]
  },
  {
   "cell_type": "markdown",
   "metadata": {},
   "source": [
    "For the third test case I intended to use a gamma three times larger than the gamma in the first test case (gamma = 0.03), but an overflow error prevented me from doing so."
   ]
  },
  {
   "cell_type": "markdown",
   "metadata": {},
   "source": [
    "## 5. Conclusion"
   ]
  },
  {
   "cell_type": "markdown",
   "metadata": {},
   "source": [
    "We successfully created a movie recommendation system based on the **MovieLens 20M** dataset. We considered three test cases using the stochastic gradient descent algorithm, two of which were successful. The results of the evaluation and test cases were satisfactory, indicating that the mean-root-square error from the first case was low enough and that the selected **gamma** and **iterations** values were satisfactory."
   ]
  }
 ],
 "metadata": {
  "anaconda-cloud": {},
  "kernelspec": {
   "display_name": "Python [default]",
   "language": "python",
   "name": "python3"
  },
  "language_info": {
   "codemirror_mode": {
    "name": "ipython",
    "version": 3
   },
   "file_extension": ".py",
   "mimetype": "text/x-python",
   "name": "python",
   "nbconvert_exporter": "python",
   "pygments_lexer": "ipython3",
   "version": "3.5.2"
  }
 },
 "nbformat": 4,
 "nbformat_minor": 2
}
